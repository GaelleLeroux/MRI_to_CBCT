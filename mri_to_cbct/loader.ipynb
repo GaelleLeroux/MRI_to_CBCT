{
 "cells": [
  {
   "cell_type": "code",
   "execution_count": 25,
   "metadata": {},
   "outputs": [
    {
     "ename": "ImportError",
     "evalue": "cannot import name 'LotusTrainTransforms2' from 'data_loader_gaelle' (/home/luciacev/Documents/Gaelle/MRI_to_CBCT/mri_to_cbct/data_loader_gaelle.py)",
     "output_type": "error",
     "traceback": [
      "\u001b[0;31m---------------------------------------------------------------------------\u001b[0m",
      "\u001b[0;31mImportError\u001b[0m                               Traceback (most recent call last)",
      "Cell \u001b[0;32mIn[25], line 8\u001b[0m\n\u001b[1;32m      6\u001b[0m \u001b[38;5;28;01mfrom\u001b[39;00m \u001b[38;5;21;01mnets\u001b[39;00m\u001b[38;5;21;01m.\u001b[39;00m\u001b[38;5;21;01mcut\u001b[39;00m \u001b[38;5;28;01mimport\u001b[39;00m Cut\n\u001b[1;32m      7\u001b[0m \u001b[38;5;28;01mfrom\u001b[39;00m \u001b[38;5;21;01mpytorch_lightning\u001b[39;00m \u001b[38;5;28;01mimport\u001b[39;00m Trainer\n\u001b[0;32m----> 8\u001b[0m \u001b[38;5;28;01mfrom\u001b[39;00m \u001b[38;5;21;01mdata_loader_gaelle\u001b[39;00m \u001b[38;5;28;01mimport\u001b[39;00m ConcatDataset,ImageDataset, LotusDataModule, ConcatDataModule, LotusTrainTransforms2\n\u001b[1;32m      9\u001b[0m \u001b[38;5;28;01mimport\u001b[39;00m \u001b[38;5;21;01mpandas\u001b[39;00m \u001b[38;5;28;01mas\u001b[39;00m \u001b[38;5;21;01mpd\u001b[39;00m\n\u001b[1;32m     10\u001b[0m \u001b[38;5;28;01mimport\u001b[39;00m \u001b[38;5;21;01mnumpy\u001b[39;00m \u001b[38;5;28;01mas\u001b[39;00m \u001b[38;5;21;01mnp\u001b[39;00m \n",
      "\u001b[0;31mImportError\u001b[0m: cannot import name 'LotusTrainTransforms2' from 'data_loader_gaelle' (/home/luciacev/Documents/Gaelle/MRI_to_CBCT/mri_to_cbct/data_loader_gaelle.py)"
     ]
    }
   ],
   "source": [
    "import torch\n",
    "from torch.utils.data import Dataset, DataLoader\n",
    "from torchvision import transforms\n",
    "from PIL import Image\n",
    "import os\n",
    "from nets.cut import Cut\n",
    "from pytorch_lightning import Trainer\n",
    "from data_loader_gaelle import ConcatDataset,ImageDataset, LotusDataModule, ConcatDataModule, LotusTrainTransforms2\n",
    "import pandas as pd\n",
    "import numpy as np \n",
    "\n",
    "# from callbacks import logger\n",
    "from pytorch_lightning.callbacks import ModelCheckpoint\n",
    "from pytorch_lightning import Trainer\n",
    "from pytorch_lightning.callbacks.early_stopping import EarlyStopping\n",
    "from pytorch_lightning.loggers import NeptuneLogger\n",
    "from pytorch_lightning.strategies.ddp import DDPStrategy\n",
    "\n",
    "from monai.transforms import (  \n",
    "    LoadImaged,\n",
    "    Compose,\n",
    "    Resize,\n",
    "    RandZoomd,\n",
    "    RandRotated,\n",
    "    RandAffined,\n",
    "    ToTensord\n",
    ")   \n",
    "import math\n"
   ]
  },
  {
   "cell_type": "code",
   "execution_count": 14,
   "metadata": {},
   "outputs": [
    {
     "name": "stdout",
     "output_type": "stream",
     "text": [
      "df_train_cbct :      index                  img_fn group  ignore_size_info  label\n",
      "0       0  train/B040_cropped.nii     .                 0      1\n",
      "1       1  train/B041_cropped.nii     .                 0      2\n",
      "2       2  train/M001_cropped.nii     .                 0      3\n",
      "3       3  train/M002_cropped.nii     .                 0      4\n",
      "4       4  train/M003_cropped.nii     .                 0      5\n",
      "..    ...                     ...   ...               ...    ...\n",
      "59     59  train/M061_cropped.nii     .                 0     60\n",
      "60     60  train/M062_cropped.nii     .                 0     61\n",
      "61     61  train/M066_cropped.nii     .                 0     62\n",
      "62     62  train/M067_cropped.nii     .                 0     63\n",
      "63     63  train/M073_cropped.nii     .                 0     64\n",
      "\n",
      "[64 rows x 5 columns]\n"
     ]
    }
   ],
   "source": [
    "df_train_cbct = pd.read_csv(\"/home/luciacev/Documents/Gaelle/Data/MultimodelReg_2/MRI_to_CBCT/training_CBCT/train.csv\") \n",
    "df_val_cbct = pd.read_csv(\"/home/luciacev/Documents/Gaelle/Data/MultimodelReg_2/MRI_to_CBCT/training_CBCT/valid.csv\")  \n",
    "df_test_cbct = pd.read_csv(\"/home/luciacev/Documents/Gaelle/Data/MultimodelReg_2/MRI_to_CBCT/training_CBCT/test.csv\")\n",
    "\n",
    "df_train_mri = pd.read_csv(\"/home/luciacev/Documents/Gaelle/Data/MultimodelReg_2/MRI_to_CBCT/training_CBCT/train.csv\")\n",
    "df_val_mri = pd.read_csv(\"/home/luciacev/Documents/Gaelle/Data/MultimodelReg_2/MRI_to_CBCT/training_CBCT/valid.csv\")   \n",
    "df_test_mri = pd.read_csv(\"/home/luciacev/Documents/Gaelle/Data/MultimodelReg_2/MRI_to_CBCT/training_CBCT/test.csv\") \n",
    "\n",
    "\n",
    "print(\"df_train_cbct : \",df_train_cbct)"
   ]
  },
  {
   "cell_type": "code",
   "execution_count": 15,
   "metadata": {},
   "outputs": [],
   "source": [
    "transform = transforms.Compose(\n",
    "    [   \n",
    "        # EnsureChannelFirstd(keys=['img', 'seg'], channel_dim=-1),\n",
    "        LoadImaged(keys=['img_mri', 'img_cbct']),\n",
    "        RandZoomd(keys=['img_mri', 'img_cbct'], min_zoom=0.8, max_zoom=1.1, mode=['area', 'nearest'], prob=0.9, padding_mode='constant'),\n",
    "        RandRotated(keys=['img_mri', 'img_cbct'], range_x=math.pi, mode=['bilinear', 'nearest'], prob=1.0),\n",
    "        RandAffined(keys=['img_mri', 'img_cbct'], prob=0.8, shear_range=(0.1, 0.1), mode=['bilinear', 'nearest'], padding_mode='zeros'),\n",
    "        ToTensord(keys=['img_mri', 'img_cbct'])\n",
    "    ]\n",
    "\n",
    ")"
   ]
  },
  {
   "cell_type": "code",
   "execution_count": 16,
   "metadata": {},
   "outputs": [
    {
     "ename": "NameError",
     "evalue": "name 'LotusTrainTransforms' is not defined",
     "output_type": "error",
     "traceback": [
      "\u001b[0;31m---------------------------------------------------------------------------\u001b[0m",
      "\u001b[0;31mNameError\u001b[0m                                 Traceback (most recent call last)",
      "Cell \u001b[0;32mIn[16], line 1\u001b[0m\n\u001b[0;32m----> 1\u001b[0m train_transform_mri \u001b[38;5;241m=\u001b[39m \u001b[43mLotusTrainTransforms\u001b[49m()\n\u001b[1;32m      2\u001b[0m valid_transform_mri \u001b[38;5;241m=\u001b[39m LotusTrainTransforms()\n\u001b[1;32m      3\u001b[0m MRI_data \u001b[38;5;241m=\u001b[39m LotusDataModule(df_train_mri, df_val_mri, df_test_mri, mount_point\u001b[38;5;241m=\u001b[39m\u001b[38;5;124m\"\u001b[39m\u001b[38;5;124m.\u001b[39m\u001b[38;5;124m\"\u001b[39m, batch_size\u001b[38;5;241m=\u001b[39m\u001b[38;5;241m2\u001b[39m, num_workers\u001b[38;5;241m=\u001b[39m\u001b[38;5;241m4\u001b[39m, img_column\u001b[38;5;241m=\u001b[39m\u001b[38;5;124m\"\u001b[39m\u001b[38;5;124mimg_path\u001b[39m\u001b[38;5;124m\"\u001b[39m, seg_column\u001b[38;5;241m=\u001b[39m\u001b[38;5;124m\"\u001b[39m\u001b[38;5;124mseg_path\u001b[39m\u001b[38;5;124m\"\u001b[39m, train_transform\u001b[38;5;241m=\u001b[39mtrain_transform_mri, valid_transform\u001b[38;5;241m=\u001b[39mvalid_transform_mri, test_transform\u001b[38;5;241m=\u001b[39mvalid_transform_mri, drop_last\u001b[38;5;241m=\u001b[39m\u001b[38;5;28;01mFalse\u001b[39;00m)\n",
      "\u001b[0;31mNameError\u001b[0m: name 'LotusTrainTransforms' is not defined"
     ]
    }
   ],
   "source": [
    "train_transform_mri = LotusTrainTransforms()\n",
    "valid_transform_mri = LotusTrainTransforms()\n",
    "MRI_data = LotusDataModule(df_train_mri, df_val_mri, df_test_mri, mount_point=\".\", batch_size=2, num_workers=4, img_column=\"img_path\", seg_column=\"seg_path\", train_transform=train_transform_mri, valid_transform=valid_transform_mri, test_transform=valid_transform_mri, drop_last=False)\n",
    "\n",
    "MRI_data.setup()\n",
    "\n",
    "\n",
    "train_transform_cbct = ImageDataset()\n",
    "valid_transform_cbct = ImageDataset()\n",
    "CBCT_data = LotusDataModule(df_train_cbct, df_val_cbct, df_test_cbct, mount_point=\".\", batch_size=2, num_workers=4, img_column=\"img_path\", seg_column=\"seg_path\", train_transform=train_transform_cbct, valid_transform=valid_transform_cbct, test_transform=valid_transform_cbct, drop_last=False)\n",
    "CBCT_data.setup()"
   ]
  }
 ],
 "metadata": {
  "kernelspec": {
   "display_name": "pl",
   "language": "python",
   "name": "python3"
  },
  "language_info": {
   "codemirror_mode": {
    "name": "ipython",
    "version": 3
   },
   "file_extension": ".py",
   "mimetype": "text/x-python",
   "name": "python",
   "nbconvert_exporter": "python",
   "pygments_lexer": "ipython3",
   "version": "3.9.19"
  }
 },
 "nbformat": 4,
 "nbformat_minor": 2
}
